{
 "cells": [
  {
   "cell_type": "code",
   "execution_count": 1,
   "id": "ac4b9929-0e9e-4f4c-981e-09a28edc6760",
   "metadata": {
    "tags": []
   },
   "outputs": [],
   "source": [
    "import pandas as pd \n",
    "import numpy as np\n",
    "import matplotlib.pyplot as plt\n",
    "import seaborn as sns\n",
    "from sklearn.model_selection import train_test_split\n",
    "from sklearn.metrics import roc_auc_score\n",
    "from sklearn.metrics import roc_curve\n",
    "from sklearn.feature_extraction import DictVectorizer\n",
    "from sklearn.linear_model import LogisticRegression\n",
    "from sklearn.model_selection import KFold"
   ]
  },
  {
   "cell_type": "markdown",
   "id": "1e20ecf1-64a5-49f7-a335-de0e30cce9fa",
   "metadata": {},
   "source": [
    "# Download dataset"
   ]
  },
  {
   "cell_type": "code",
   "execution_count": null,
   "id": "f5c1c647-3ea9-4353-b00f-c7ea90737322",
   "metadata": {
    "tags": []
   },
   "outputs": [
    {
     "name": "stdout",
     "output_type": "stream",
     "text": [
      "--2023-10-09 22:37:57--  http://wget/\n",
      "Resolving wget (wget)... failed: Temporary failure in name resolution.\n",
      "wget: unable to resolve host address ‘wget’\n",
      "--2023-10-09 22:37:57--  https://raw.githubusercontent.com/alexeygrigorev/mlbookcamp-code/master/chapter-02-car-price/data.csv\n",
      "Resolving raw.githubusercontent.com (raw.githubusercontent.com)... 185.199.109.133, 185.199.110.133, 185.199.108.133, ...\n",
      "Connecting to raw.githubusercontent.com (raw.githubusercontent.com)|185.199.109.133|:443... connected.\n",
      "HTTP request sent, awaiting response... 200 OK\n",
      "Length: 1475504 (1.4M) [text/plain]\n",
      "Saving to: ‘data.csv.7’\n",
      "\n",
      "data.csv.7           74%[=============>      ]   1.05M   979KB/s               "
     ]
    }
   ],
   "source": [
    "!wget wget https://raw.githubusercontent.com/alexeygrigorev/mlbookcamp-code/master/chapter-02-car-price/data.csv"
   ]
  },
  {
   "cell_type": "markdown",
   "id": "df402bb2-dae9-4437-9f77-7925b801bf77",
   "metadata": {},
   "source": [
    "# Data preparation"
   ]
  },
  {
   "cell_type": "code",
   "execution_count": null,
   "id": "fefb20eb-6067-4562-ad58-e9eeb9bd257b",
   "metadata": {
    "tags": []
   },
   "outputs": [],
   "source": [
    "df = pd.read_csv('data.csv')\n",
    "\n",
    "df.columns = df.columns.str.lower().str.replace(' ', '_')\n",
    "\n",
    "categorical_columns = list(df.dtypes[df.dtypes == 'object'].index)\n",
    "\n",
    "for c in categorical_columns:\n",
    "    df[c] = df[c].str.lower().str.replace(' ', '_')"
   ]
  },
  {
   "cell_type": "code",
   "execution_count": null,
   "id": "439bed62-7390-4b50-a719-263c00f163d3",
   "metadata": {
    "tags": []
   },
   "outputs": [],
   "source": [
    "df.head(3)"
   ]
  },
  {
   "cell_type": "code",
   "execution_count": null,
   "id": "29de435e-35b9-4f29-b687-507a9f3cc625",
   "metadata": {
    "tags": []
   },
   "outputs": [],
   "source": [
    "df.columns"
   ]
  },
  {
   "cell_type": "code",
   "execution_count": null,
   "id": "3e9fa0d8-b615-40e6-bb31-addb8be991f0",
   "metadata": {
    "tags": []
   },
   "outputs": [],
   "source": [
    "# Selected columns \n",
    "selected_cols = [\n",
    "    'make',\n",
    "    'model',\n",
    "    'year',\n",
    "    'engine_hp',\n",
    "    'engine_cylinders',\n",
    "    'transmission_type',\n",
    "    'vehicle_style',\n",
    "    'highway_mpg', \n",
    "    'city_mpg', \n",
    "    'msrp'\n",
    "]"
   ]
  },
  {
   "cell_type": "code",
   "execution_count": null,
   "id": "2acfa341-d572-455d-b7dd-de473a076faa",
   "metadata": {
    "tags": []
   },
   "outputs": [],
   "source": [
    "df = df[selected_cols]"
   ]
  },
  {
   "cell_type": "code",
   "execution_count": null,
   "id": "95b16c08-2f81-4752-b3fe-709fe4223be9",
   "metadata": {
    "tags": []
   },
   "outputs": [],
   "source": [
    "df.dtypes"
   ]
  },
  {
   "cell_type": "code",
   "execution_count": null,
   "id": "3cda46e5-4147-4f50-ad8b-8704306f59c5",
   "metadata": {
    "tags": []
   },
   "outputs": [],
   "source": [
    "df.sample(5)"
   ]
  },
  {
   "cell_type": "code",
   "execution_count": null,
   "id": "fffd2a08-c206-4b1d-a853-efc2859fe42b",
   "metadata": {
    "tags": []
   },
   "outputs": [],
   "source": [
    "df.fillna(0)\n",
    "avg_price = df.msrp.mean()"
   ]
  },
  {
   "cell_type": "code",
   "execution_count": null,
   "id": "a3c375cb-03f5-4583-9987-a97e9d013165",
   "metadata": {
    "tags": []
   },
   "outputs": [],
   "source": [
    "df['price'] = np.where(df['msrp'] > avg_price, 1, 0)"
   ]
  },
  {
   "cell_type": "code",
   "execution_count": null,
   "id": "95873c5f-7b97-4b72-b62c-f49554823450",
   "metadata": {
    "tags": []
   },
   "outputs": [],
   "source": [
    "numerical= ['year', 'engine_hp', 'engine_cylinders', 'highway_mpg', 'city_mpg']\n",
    "categorical= ['make', 'model', 'transmission_type', 'vehicle_style']"
   ]
  },
  {
   "cell_type": "markdown",
   "id": "32df9ef0-67e1-4126-baf9-c612d531de9e",
   "metadata": {},
   "source": [
    "# Check Null count"
   ]
  },
  {
   "cell_type": "code",
   "execution_count": null,
   "id": "d4e6a312-7bc1-4aa9-b8d9-4d670d73766b",
   "metadata": {
    "tags": []
   },
   "outputs": [],
   "source": [
    "df.isna().sum()"
   ]
  },
  {
   "cell_type": "code",
   "execution_count": null,
   "id": "b5199009-5f3a-4b6e-8bd7-4025fda7f695",
   "metadata": {},
   "outputs": [],
   "source": [
    "df['engine_hp'] = df['engine_hp'].fillna(0)\n",
    "df['engine_cylinders'] = df['engine_cylinders'].fillna(0)"
   ]
  },
  {
   "cell_type": "code",
   "execution_count": null,
   "id": "193568be-3be4-486c-b608-48c7797f2005",
   "metadata": {},
   "outputs": [],
   "source": [
    "df.isna().sum()"
   ]
  },
  {
   "cell_type": "code",
   "execution_count": null,
   "id": "2641adf8-420b-450a-9f53-ea829577a8f1",
   "metadata": {
    "tags": []
   },
   "outputs": [],
   "source": [
    "df[numerical].corr()"
   ]
  },
  {
   "cell_type": "markdown",
   "id": "52771b60-9f57-4af6-a664-30c88c6365a0",
   "metadata": {},
   "source": [
    "# Train the dataset "
   ]
  },
  {
   "cell_type": "code",
   "execution_count": null,
   "id": "ecb6dd99-8bc3-4e03-985e-990b0b5a0d8a",
   "metadata": {
    "tags": []
   },
   "outputs": [],
   "source": [
    "df_full_train, df_test = train_test_split(df, test_size=0.2, random_state=1)\n",
    "df_train, df_val = train_test_split(df_full_train, test_size=0.25, random_state=1)\n",
    "\n",
    "df_train = df_train.reset_index(drop=True)\n",
    "df_val = df_val.reset_index(drop=True)\n",
    "df_test = df_test.reset_index(drop=True)"
   ]
  },
  {
   "cell_type": "code",
   "execution_count": null,
   "id": "fa6af56d-9198-4397-a047-c97cede3e196",
   "metadata": {
    "tags": []
   },
   "outputs": [],
   "source": [
    "y_train = df_train.price.values\n",
    "y_val = df_val.price.values\n",
    "y_test = df_test.price.values"
   ]
  },
  {
   "cell_type": "code",
   "execution_count": null,
   "id": "351acfe8-f314-4577-8018-224e147cc7bc",
   "metadata": {
    "tags": []
   },
   "outputs": [],
   "source": [
    "# Q1"
   ]
  },
  {
   "cell_type": "code",
   "execution_count": null,
   "id": "8b96ea28-83fd-4a82-9f32-11caf9011692",
   "metadata": {
    "tags": []
   },
   "outputs": [],
   "source": [
    "for c in numerical:\n",
    "    auc = roc_auc_score(y_train, df_train[c])\n",
    "    if auc < 0.5:\n",
    "        auc = roc_auc_score(y_train, -df_train[c])\n",
    "    print('%9s, %.3f' % (c, auc))"
   ]
  },
  {
   "cell_type": "code",
   "execution_count": null,
   "id": "63670276-c29c-44a6-900a-68b990ee83b5",
   "metadata": {
    "tags": []
   },
   "outputs": [],
   "source": [
    "# Q2"
   ]
  },
  {
   "cell_type": "code",
   "execution_count": null,
   "id": "44f386a8-a3d3-4702-bec4-ff542f2a0894",
   "metadata": {
    "tags": []
   },
   "outputs": [],
   "source": [
    "dv = DictVectorizer(sparse=False)\n",
    "\n",
    "train_dict = df_train[categorical + numerical].to_dict(orient='records')\n",
    "X_train = dv.fit_transform(train_dict)\n",
    "\n",
    "model = LogisticRegression(solver='liblinear', C=1.0, max_iter=1000)\n",
    "model.fit(X_train, y_train)"
   ]
  },
  {
   "cell_type": "code",
   "execution_count": null,
   "id": "7d4df9dd-ed2d-4ca6-a2a2-14a29a520e4d",
   "metadata": {
    "tags": []
   },
   "outputs": [],
   "source": [
    "columns = categorical + numerical\n",
    "val_dicts = df_val[columns].to_dict(orient='records')\n",
    "X_val = dv.transform(val_dicts)\n",
    "\n",
    "y_pred = model.predict_proba(X_val)[:, 1]"
   ]
  },
  {
   "cell_type": "code",
   "execution_count": null,
   "id": "361f7394-0718-4ec6-8433-e904d04e768c",
   "metadata": {
    "tags": []
   },
   "outputs": [],
   "source": [
    "# Q2 ans \n",
    "round(roc_auc_score(y_val, y_pred), 3)"
   ]
  },
  {
   "cell_type": "code",
   "execution_count": null,
   "id": "ca6e01f6-2391-4128-8034-d9bdf3378694",
   "metadata": {
    "tags": []
   },
   "outputs": [],
   "source": [
    "\n",
    "#@ INSPECTING THE ROC AUC SCORE:\n",
    "y_pred_bin = model.predict(X_val)\n",
    "roc_auc_score(y_val, y_pred_bin)"
   ]
  },
  {
   "cell_type": "code",
   "execution_count": null,
   "id": "b27e9c8d-7848-4657-8f6f-fd3c90b083c6",
   "metadata": {
    "tags": []
   },
   "outputs": [],
   "source": [
    "#@ INSPECTING THE ROC CURVE:\n",
    "plt.figure(figsize=(5, 5))\n",
    "\n",
    "fpr, tpr, _ = roc_curve(y_val, y_pred)\n",
    "plt.plot(fpr, tpr, label='probability')\n",
    "\n",
    "fpr, tpr, _ = roc_curve(y_val, y_pred_bin)\n",
    "plt.plot(fpr, tpr, label='hard prediction')\n",
    "\n",
    "plt.plot([0, 1], [0, 1], color='grey', linestyle='--')\n",
    "\n",
    "plt.legend()\n",
    "plt.show()"
   ]
  },
  {
   "cell_type": "code",
   "execution_count": null,
   "id": "ea02d88a-cc50-45df-9664-010aaf1ffd6e",
   "metadata": {
    "tags": []
   },
   "outputs": [],
   "source": [
    "np.arange(0, 0.1, 0.01)"
   ]
  },
  {
   "cell_type": "code",
   "execution_count": null,
   "id": "822a544c-2695-4af2-afb6-3ab05a7ca316",
   "metadata": {
    "tags": []
   },
   "outputs": [],
   "source": [
    "# Q3"
   ]
  },
  {
   "cell_type": "code",
   "execution_count": null,
   "id": "581451ae-f377-483a-abf0-785accd2cc28",
   "metadata": {
    "tags": []
   },
   "outputs": [],
   "source": [
    "def confusion_matrix_dataframe(y_val, y_pred):\n",
    "    scores = []\n",
    "    num_points = int((1.0 - 0.0) / 0.01) + 1\n",
    "\n",
    "    thresholds = np.linspace(0.0, 1.0, num=num_points)\n",
    "\n",
    "    for t in thresholds:\n",
    "        actual_positive = (y_val == 1)\n",
    "        actual_negative = (y_val == 0)\n",
    "\n",
    "        predict_positive = (y_pred >= t)\n",
    "        predict_negative = (y_pred < t)\n",
    "\n",
    "        tp = (predict_positive & actual_positive).sum()\n",
    "        tn = (predict_negative & actual_negative).sum()\n",
    "\n",
    "        fp = (predict_positive & actual_negative).sum()\n",
    "        fn = (predict_negative & actual_positive).sum()\n",
    "\n",
    "        scores.append((t, tp, fp, fn, tn))\n",
    "\n",
    "    columns = ['threshold', 'tp', 'fp', 'fn', 'tn']\n",
    "    df_scores = pd.DataFrame(scores, columns=columns)\n",
    "    \n",
    "    return df_scores\n",
    "\n",
    "\n",
    "#@ IMPLEMENTATION OF FUNCTION:\n",
    "df_scores = confusion_matrix_dataframe(y_val, y_pred)\n",
    "df_scores[::10]"
   ]
  },
  {
   "cell_type": "code",
   "execution_count": null,
   "id": "8d8eb986-10b9-4ed3-8572-c1f3efa0b642",
   "metadata": {
    "tags": []
   },
   "outputs": [],
   "source": [
    "#@ ADDING THE COLUMNS:\n",
    "df_scores['p'] = df_scores.tp / (df_scores.tp + df_scores.fp)\n",
    "df_scores['r'] = df_scores.tp / (df_scores.tp + df_scores.fn)"
   ]
  },
  {
   "cell_type": "code",
   "execution_count": null,
   "id": "b60e7a35-5361-420e-adf8-21d44565744d",
   "metadata": {
    "tags": []
   },
   "outputs": [],
   "source": [
    "plt.plot(df_scores.threshold, df_scores.p, label='precision')\n",
    "plt.plot(df_scores.threshold, df_scores.r, label='recall')\n",
    "\n",
    "plt.legend()\n",
    "plt.show()"
   ]
  },
  {
   "cell_type": "code",
   "execution_count": null,
   "id": "f0c9ec7e-b232-4a88-bf6e-c5c1e7c6ed54",
   "metadata": {
    "tags": []
   },
   "outputs": [],
   "source": [
    "# Q3 ans \n",
    "# ~0.48 "
   ]
  },
  {
   "cell_type": "code",
   "execution_count": null,
   "id": "932d1c55-60eb-4af9-9a6c-568a155eedc5",
   "metadata": {
    "tags": []
   },
   "outputs": [],
   "source": [
    "# Q4 "
   ]
  },
  {
   "cell_type": "code",
   "execution_count": null,
   "id": "42e35545-9e75-4a5b-968f-3d598bb2cbdd",
   "metadata": {
    "tags": []
   },
   "outputs": [],
   "source": [
    "df_scores['f1'] = 2 * df_scores.p * df_scores.r / (df_scores.p + df_scores.r)"
   ]
  },
  {
   "cell_type": "code",
   "execution_count": null,
   "id": "c5d28f4c-772b-408e-8976-343046baa313",
   "metadata": {
    "tags": []
   },
   "outputs": [],
   "source": [
    "plt.plot(df_scores.threshold, df_scores.f1)\n",
    "plt.xticks(np.linspace(0, 1, 11))\n",
    "plt.show()"
   ]
  },
  {
   "cell_type": "code",
   "execution_count": null,
   "id": "f07fada2-e5af-49d0-b85b-f667909d8068",
   "metadata": {
    "tags": []
   },
   "outputs": [],
   "source": [
    "df_scores['f1'].min()"
   ]
  },
  {
   "cell_type": "code",
   "execution_count": null,
   "id": "e9634541-b6a6-485a-b34b-8f11b1b4dfa9",
   "metadata": {
    "tags": []
   },
   "outputs": [],
   "source": [
    "df_scores['f1'].max()"
   ]
  },
  {
   "cell_type": "code",
   "execution_count": null,
   "id": "ae3554af-f6fa-4901-9336-74f16c1a0b21",
   "metadata": {
    "tags": []
   },
   "outputs": [],
   "source": [
    "#@ DEFINING TRAIN AND PREDICT FUNCTION:\n",
    "def train(df_train, y_train, C=1.0):\n",
    "    dicts = df_train[columns].to_dict(orient='records')\n",
    "\n",
    "    dv = DictVectorizer(sparse=False)\n",
    "    X_train = dv.fit_transform(dicts)\n",
    "\n",
    "    model = LogisticRegression(solver='liblinear', C=C)\n",
    "    model.fit(X_train, y_train)\n",
    "\n",
    "    return dv, model\n",
    "\n",
    "def predict(df, dv, model):\n",
    "    dicts = df[columns].to_dict(orient='records')\n",
    "\n",
    "    X = dv.transform(dicts)\n",
    "    y_pred = model.predict_proba(X)[:, 1]\n",
    "\n",
    "    return y_pred"
   ]
  },
  {
   "cell_type": "code",
   "execution_count": null,
   "id": "7180df0a-d59b-4eb4-a76e-7ea23da0906b",
   "metadata": {
    "tags": []
   },
   "outputs": [],
   "source": [
    "# Q5"
   ]
  },
  {
   "cell_type": "code",
   "execution_count": null,
   "id": "aaa6720c-1781-47f6-96d4-bd75a3526d33",
   "metadata": {
    "tags": []
   },
   "outputs": [],
   "source": [
    "scores = []\n",
    "\n",
    "kfold = KFold(n_splits=5, shuffle=True, random_state=1)\n",
    "\n",
    "for train_idx, val_idx in kfold.split(df_full_train):\n",
    "    df_train = df_full_train.iloc[train_idx]\n",
    "    df_val = df_full_train.iloc[val_idx]\n",
    "\n",
    "    y_train = df_train.price\n",
    "    y_val = df_val.price\n",
    "\n",
    "    dv, model = train(df_train, y_train, C=1.0)\n",
    "    y_pred = predict(df_val, dv, model)\n",
    "\n",
    "    auc = roc_auc_score(y_val, y_pred)\n",
    "    scores.append(auc)\n",
    "\n",
    "print('%.3f +- %.3f' % (np.mean(scores), np.std(scores)))"
   ]
  },
  {
   "cell_type": "code",
   "execution_count": null,
   "id": "97cfd460-5813-4fc2-b9df-175948cdfb79",
   "metadata": {
    "tags": []
   },
   "outputs": [],
   "source": [
    "# Q6 "
   ]
  },
  {
   "cell_type": "code",
   "execution_count": null,
   "id": "a8e4ca53-5796-4f3b-a31e-970f6ccc800e",
   "metadata": {
    "tags": []
   },
   "outputs": [],
   "source": [
    "kfold = KFold(n_splits=5, shuffle=True, random_state=1)\n",
    "\n",
    "for C in [0.01, 0.1, 1, 10]:\n",
    "    scores = []\n",
    "\n",
    "    for train_idx, val_idx in kfold.split(df_full_train):\n",
    "        df_train = df_full_train.iloc[train_idx]\n",
    "        df_val = df_full_train.iloc[val_idx]\n",
    "\n",
    "        y_train = df_train.price\n",
    "        y_val = df_val.price\n",
    "\n",
    "        dv, model = train(df_train, y_train, C=C)\n",
    "        y_pred = predict(df_val, dv, model)\n",
    "\n",
    "        auc = roc_auc_score(y_val, y_pred)\n",
    "        scores.append(auc)\n",
    "\n",
    "    print('C=%4s, %.3f +- %.3f' % (C, np.mean(scores), np.std(scores)))"
   ]
  },
  {
   "cell_type": "code",
   "execution_count": null,
   "id": "24eb24d4-9c1a-41cb-90df-c425f5c7939d",
   "metadata": {},
   "outputs": [],
   "source": []
  }
 ],
 "metadata": {
  "kernelspec": {
   "display_name": "Python 3 (ipykernel)",
   "language": "python",
   "name": "python3"
  },
  "language_info": {
   "codemirror_mode": {
    "name": "ipython",
    "version": 3
   },
   "file_extension": ".py",
   "mimetype": "text/x-python",
   "name": "python",
   "nbconvert_exporter": "python",
   "pygments_lexer": "ipython3",
   "version": "3.9.18"
  }
 },
 "nbformat": 4,
 "nbformat_minor": 5
}
